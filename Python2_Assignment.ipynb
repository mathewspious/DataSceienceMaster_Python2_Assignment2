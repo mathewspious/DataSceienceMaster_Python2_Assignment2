{
 "cells": [
  {
   "cell_type": "markdown",
   "metadata": {},
   "source": [
    "## Assignment 1\n",
    "accept comma separated numbers from console and generate a list"
   ]
  },
  {
   "cell_type": "code",
   "execution_count": 6,
   "metadata": {},
   "outputs": [
    {
     "name": "stdout",
     "output_type": "stream",
     "text": [
      "Enter comma separated sequence :1,2,3,4,5,6,7,8,9,11,22,33,44,55\n",
      "My List : ['1', '2', '3', '4', '5', '6', '7', '8', '9', '11', '22', '33', '44', '55']\n"
     ]
    }
   ],
   "source": [
    "sequence=input(\"Enter comma separated sequence :\")\n",
    "my_list=[]\n",
    "for element in sequence.split(\",\"):\n",
    "    my_list.append(element)\n",
    "print (\"My List : \"+str(my_list))"
   ]
  },
  {
   "cell_type": "markdown",
   "metadata": {},
   "source": [
    "## Assignment 2\n",
    "Pattern Using Nested for loop"
   ]
  },
  {
   "cell_type": "code",
   "execution_count": 67,
   "metadata": {},
   "outputs": [
    {
     "name": "stdout",
     "output_type": "stream",
     "text": [
      "*\n",
      "**\n",
      "***\n",
      "****\n",
      "*****\n",
      "****\n",
      "***\n",
      "**\n",
      "*\n"
     ]
    }
   ],
   "source": [
    "x=5\n",
    "y=(x-1)*-1\n",
    "for i in range(y,x):\n",
    "    line=\"\"\n",
    "    for j in range (0,x-abs(i)):\n",
    "       line=line+\"*\"\n",
    "    print(line)"
   ]
  },
  {
   "cell_type": "markdown",
   "metadata": {},
   "source": [
    "## Assignemnt 3\n",
    "String reverse"
   ]
  },
  {
   "cell_type": "code",
   "execution_count": 30,
   "metadata": {},
   "outputs": [
    {
     "name": "stdout",
     "output_type": "stream",
     "text": [
      "Enter your String : Mathews Pious\n",
      "suoiP swehtaM\n"
     ]
    }
   ],
   "source": [
    "my_string=input(\"Enter your String : \")\n",
    "print(my_string[::-1])"
   ]
  },
  {
   "cell_type": "markdown",
   "metadata": {},
   "source": [
    "## Assignment 4\n",
    "String formatting"
   ]
  },
  {
   "cell_type": "code",
   "execution_count": 63,
   "metadata": {},
   "outputs": [
    {
     "name": "stdout",
     "output_type": "stream",
     "text": [
      "  WE, THE PEOPLE OF INDIA,\n",
      "\thaving solemnly resolved to constitute India into a SOVEREIGN,!\n",
      "\t\tSOCIALIST, SECULAR, DEMOCRATIC REPUBLIC\n",
      "\t\t and to secure to all its citizens\n"
     ]
    }
   ],
   "source": [
    "import re\n",
    "my_string=\"\"\"WE, THE PEOPLE OF INDIA, having solemnly resolved to constitute India into a SOVEREIGN,\n",
    "SOCIALIST, SECULAR, DEMOCRATIC REPUBLIC and to secure to all its citizens\"\"\"\n",
    "new_string=re.sub(r\"WE,\", \"  WE,\", my_string)\n",
    "new_string=re.sub(r\"INDIA, \", \"INDIA,\\n\\t\", new_string)\n",
    "new_string=re.sub(r\"SOVEREIGN,\\n\", \"SOVEREIGN,!\\n\\t\\t\", new_string)\n",
    "new_string=re.sub(r\"REPUBLIC\", \"REPUBLIC\\n\\t\\t\", new_string)\n",
    "print(new_string)"
   ]
  },
  {
   "cell_type": "code",
   "execution_count": null,
   "metadata": {},
   "outputs": [],
   "source": []
  }
 ],
 "metadata": {
  "kernelspec": {
   "display_name": "Python 3",
   "language": "python",
   "name": "python3"
  },
  "language_info": {
   "codemirror_mode": {
    "name": "ipython",
    "version": 3
   },
   "file_extension": ".py",
   "mimetype": "text/x-python",
   "name": "python",
   "nbconvert_exporter": "python",
   "pygments_lexer": "ipython3",
   "version": "3.6.5"
  }
 },
 "nbformat": 4,
 "nbformat_minor": 2
}
